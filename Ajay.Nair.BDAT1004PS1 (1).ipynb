{
 "cells": [
  {
   "cell_type": "markdown",
   "id": "aef7128c",
   "metadata": {},
   "source": [
    "Ajay Nair - BDAT1004 - Section A - Id:200559117"
   ]
  },
  {
   "cell_type": "markdown",
   "id": "abb131ec",
   "metadata": {},
   "source": [
    "QUESTION 1 :\n",
    "\n",
    "What data type is each of the following?"
   ]
  },
  {
   "cell_type": "markdown",
   "id": "8b280332",
   "metadata": {},
   "source": [
    "|data           |datatype                                    | \n",
    "|:---           |------------:                               |\n",
    "|5              |integer                                     |\n",
    "|5.0            |float                                       |\n",
    "|5 > 1          |boolean                                     |\n",
    "|'5'            |string                                      |\n",
    "|5 * 2 = 10     |integer                                     |\n",
    "|'5'* 2 = 55    |string                                      |\n",
    "|'5' + '2' = 52 |string                                      |\n",
    "|5 / 2 = 2.5    |float                                       |\n",
    "|5 % 2 = 1      |integer                                     |\n",
    "|{5, 2, 1}      |set                                         |\n",
    "|5 == 3         |boolean                                     |\n",
    "|Pi = 3.14      |float                                       |\n",
    "\n"
   ]
  },
  {
   "cell_type": "markdown",
   "id": "8fa89ac9",
   "metadata": {},
   "source": [
    "QUESTION 2 :\n",
    "\n",
    "Write and evaluate python expressions.\n",
    "\n",
    "a. How many letters are there  in 'Supercalifragilisticexpialidocious'?"
   ]
  },
  {
   "cell_type": "code",
   "execution_count": 251,
   "id": "4e127000",
   "metadata": {},
   "outputs": [
    {
     "name": "stdout",
     "output_type": "stream",
     "text": [
      "34\n"
     ]
    }
   ],
   "source": [
    "Givenword = \"Supercalifragilisticexpialidocious\"\n",
    "print(len(Givenword))"
   ]
  },
  {
   "cell_type": "markdown",
   "id": "deac1a3a",
   "metadata": {},
   "source": [
    "b. Does 'Supercalifragilisticexpialidocious' contain 'ice' as a substring?"
   ]
  },
  {
   "cell_type": "code",
   "execution_count": 252,
   "id": "769b24fa",
   "metadata": {},
   "outputs": [
    {
     "name": "stdout",
     "output_type": "stream",
     "text": [
      "yes its there\n"
     ]
    }
   ],
   "source": [
    "Givenword = \"Supercalifragilisticexpialidocious\"\n",
    "if \"ice\" in Givenword:\n",
    "    print(\"yes its there\")\n",
    "else :\n",
    "    print(\"no its not there\")"
   ]
  },
  {
   "cell_type": "markdown",
   "id": "f63a2f61",
   "metadata": {},
   "source": [
    "c. Which of the following words is the longest:\n",
    "Supercalifragilisticexpialidocious, Honorificabilitudinitatibus, or\n",
    "Bababadalgharaghtakamminarronnkonn?"
   ]
  },
  {
   "cell_type": "code",
   "execution_count": 253,
   "id": "cc1f7e09",
   "metadata": {
    "scrolled": true
   },
   "outputs": [
    {
     "name": "stdout",
     "output_type": "stream",
     "text": [
      "Bababadalgharaghtakamminarronnkonn\n"
     ]
    }
   ],
   "source": [
    "word_1 = \"Supercalifragilisticexpialidocious\"\n",
    "word_2 = \"Honorificabilitudinitatibus\"\n",
    "word_3 = \"Bababadalgharaghtakamminarronnkonn\"\n",
    "if len(word_1) > len(word_2):\n",
    "    if len(word_1) > len(word_3):\n",
    "        print(word_1)\n",
    "    else :\n",
    "        print(word_3)\n",
    "else:\n",
    "    if len(word_2) > len(word_3):\n",
    "        print(word_2)\n",
    "    else :\n",
    "        print(word_3)   \n"
   ]
  },
  {
   "cell_type": "markdown",
   "id": "1de564ac",
   "metadata": {},
   "source": [
    "d. Which composer comes first in the dictionary: 'Berlioz', 'Borodin', 'Brian', 'Bartok', 'Bellini', 'Buxtehude', 'Bernstein'. Which one comes last?"
   ]
  },
  {
   "cell_type": "code",
   "execution_count": 254,
   "id": "4f8b82c1",
   "metadata": {},
   "outputs": [
    {
     "name": "stdout",
     "output_type": "stream",
     "text": [
      "Bartok\n",
      "Buxtehude\n"
     ]
    }
   ],
   "source": [
    "Allcomposers = ['Berlioz', 'Borodin', 'Brian', 'Bartok', 'Bellini', 'Buxtehude', 'Bernstein']\n",
    "Allcomposers.sort()\n",
    "print(Allcomposers[0])\n",
    "print(Allcomposers[-1])"
   ]
  },
  {
   "cell_type": "markdown",
   "id": "d3a91893",
   "metadata": {},
   "source": [
    "QUESTION 3 :\n",
    "\n",
    "Implement function triangleArea(a,b,c) that takes as input the lengths of the 3\n",
    "sides of a triangle and returns the area of the triangle. By Heron's formula, the area of a triangle with side lengths a, b, and c iss(s - a)(s - b)(s - c) , wheres = (a + b + c)/2."
   ]
  },
  {
   "cell_type": "code",
   "execution_count": 255,
   "id": "09f12978",
   "metadata": {},
   "outputs": [
    {
     "name": "stdout",
     "output_type": "stream",
     "text": [
      "1.7320508075688772\n"
     ]
    }
   ],
   "source": [
    "import math\n",
    "def trianglearea(a,b,c):\n",
    "    s=(a+b+c) / 2\n",
    "    area= math.sqrt(s*(s-a)*(s-b)*(s-c))\n",
    "    \n",
    "    print(area)\n",
    "trianglearea(2,2,2)\n"
   ]
  },
  {
   "cell_type": "markdown",
   "id": "01e77734",
   "metadata": {},
   "source": [
    "QUESTION 4 :\n",
    "\n",
    "Write a program in python to separate odd and even integers in separate arrays.\n",
    "\n",
    "Test Data :\n",
    "Number of elements to be stored :5\n",
    "The 5 elements in the array :\n",
    "element - 0 : 25\n",
    "element - 1 : 47\n",
    "element - 2 : 42\n",
    "element - 3 : 56\n",
    "element - 4 : 32\n",
    "\n"
   ]
  },
  {
   "cell_type": "code",
   "execution_count": 256,
   "id": "e140a882",
   "metadata": {},
   "outputs": [
    {
     "name": "stdout",
     "output_type": "stream",
     "text": [
      "Even elements-:\n",
      "[42, 56, 32, 58, 54]\n",
      "Odd elements-\n",
      "[25, 47]\n"
     ]
    }
   ],
   "source": [
    "elements = [25,47,42,56,32,58,54]\n",
    "even_elements = []\n",
    "odd_elements = []\n",
    "\n",
    "    \n",
    "for element in elements:\n",
    "    if(element % 2 ==0):\n",
    "        even_elements.append(element)\n",
    "    else:\n",
    "        odd_elements.append(element)\n",
    "                \n",
    "print(\"Even elements-:\")\n",
    "print(even_elements)\n",
    "print(\"Odd elements-\")\n",
    "print(odd_elements)"
   ]
  },
  {
   "cell_type": "markdown",
   "id": "7b5092a6",
   "metadata": {},
   "source": [
    "QUESTION 5: \n",
    "\n",
    "a. Write a function inside(x,y,x1,y1,x2,y2) that returns True or False\n",
    "depending on whether the point (x,y) lies in the rectangle with lower left\n",
    "corner (x1,y1) and upper right corner (x2,y2).\n"
   ]
  },
  {
   "cell_type": "code",
   "execution_count": 257,
   "id": "5d4296a7",
   "metadata": {},
   "outputs": [
    {
     "name": "stdout",
     "output_type": "stream",
     "text": [
      "True\n",
      "False\n"
     ]
    }
   ],
   "source": [
    "def inside(x,y,x1,y1,x2,y2):\n",
    "    if x >=x1 and x <= x2 and y>= y1 and y <= y2:\n",
    "        return True\n",
    "    else:\n",
    "        return False\n",
    "    \n",
    "coordinates=inside(1,1,0,0,2,3)\n",
    "print (coordinates)\n",
    "\n",
    "\n",
    "coordinates=inside(-1,-1,0,0,2,3)\n",
    "print (coordinates)\n",
    "    "
   ]
  },
  {
   "cell_type": "markdown",
   "id": "790842de",
   "metadata": {},
   "source": [
    "b. Use function inside() from part a. to write an expression that tests whether\n",
    "the point (1,1) lies in both of the following rectangles: one with lower left\n",
    "corner (0.3, 0.5) and upper right corner (1.1, 0.7) and the other with lower\n",
    "left corner (0.5, 0.2) and upper right corner (1.1, 2)."
   ]
  },
  {
   "cell_type": "code",
   "execution_count": 258,
   "id": "e5f7344b",
   "metadata": {},
   "outputs": [
    {
     "name": "stdout",
     "output_type": "stream",
     "text": [
      "False\n"
     ]
    }
   ],
   "source": [
    "def inside (x,y,x1,y1,x2,y2):\n",
    "    return (x1 <= x <= x2 and y1 <= y <= y2)\n",
    "\n",
    "lowerlhs_rect1 = (0.3, 0.5)\n",
    "upperrhs_rect1 = (1.1, 0.7)\n",
    "\n",
    "lowerlhs_rect2 = (0.5, 0.2)\n",
    "upperrhs_rect2 = (1.1, 2)\n",
    "\n",
    "x_coordinate, y_coordinate = (1,1)\n",
    "\n",
    "in_thegiven_rectangle = (inside(lowerlhs_rect1[0], lowerlhs_rect1[1], upperrhs_rect1[0], upperrhs_rect1[1], x_point, y_point) and inside(lowerlhs_rect2[0], lowerlhs_rect2[1], upperrhs_rect2[0], upperrhs_rect2[1], x_point,y_point))\n",
    "\n",
    "print(in_thegiven_rectangle)"
   ]
  },
  {
   "cell_type": "markdown",
   "id": "da0645d2",
   "metadata": {},
   "source": [
    "QUESTION 6 :\n",
    "\n",
    "You can turn a word into pig-Latin using the following two rules (simplified):\n",
    "• If the word starts with a consonant, move that letter to the end and append\n",
    "'ay'. For example, 'happy' becomes 'appyhay' and 'pencil' becomes 'encilpay'.\n",
    "• If the word starts with a vowel, simply append 'way' to the end of the word.\n",
    "For example, 'enter' becomes 'enterway' and 'other' becomes 'otherway' . For\n",
    "our purposes, there are 5 vowels: a, e, i, o, u (so we count y as a consonant).\n",
    "Write a function pig() that takes a word (i.e., a string) as input and returns its pig- Latin form. Your function should still work if the input word contains upper case characters. Your output should always be lower case however."
   ]
  },
  {
   "cell_type": "code",
   "execution_count": 259,
   "id": "53e4d14d",
   "metadata": {},
   "outputs": [
    {
     "name": "stdout",
     "output_type": "stream",
     "text": [
      "ajayway\n"
     ]
    }
   ],
   "source": [
    "vowels= ['a','e','i','o','u']\n",
    "def piglatin(word):\n",
    "    \n",
    "    if word[0].lower() in vowels:\n",
    "        print(word.lower() + 'way')\n",
    "        \n",
    "    else:\n",
    "        firstletter = word[0]\n",
    "        print(word[1:].lower()+firstletter.lower()+'ay')\n",
    "\n",
    "piglatin('AJAY')"
   ]
  },
  {
   "cell_type": "markdown",
   "id": "9974802e",
   "metadata": {},
   "source": [
    "QUESTION 7 : \n",
    "\n",
    "File bloodtype1.txt records blood-types of patients (A, B, AB, O or OO) at a clinic. Write a function bldcount() that reads the file with name name and reports (i.e.,prints) how many patients there are in each bloodtype."
   ]
  },
  {
   "cell_type": "code",
   "execution_count": 260,
   "id": "0cf219fa",
   "metadata": {},
   "outputs": [
    {
     "name": "stdout",
     "output_type": "stream",
     "text": [
      "There are 15 patients of bloodytype A\n",
      "There are 1 patients of bloodytype B\n",
      "There are 15 patients of bloodytype O\n",
      "There are 0 patients of bloodytype OO\n",
      "There are 13 patients of bloodytype AB\n"
     ]
    }
   ],
   "source": [
    "def bldcount(file_name):\n",
    "    \n",
    "    with open(file_name, 'r') as givenfile:\n",
    "        Countbloodtype_A  = 0\n",
    "        Countbloodtype_B  = 0\n",
    "        Countbloodtype_O  = 0\n",
    "        Countbloodtype_OO = 0\n",
    "        Countbloodtype_AB = 0\n",
    "        \n",
    "        for data in givenfile:\n",
    "            for bloodgroup in data.split():\n",
    "              if bloodgroup == \"A\":\n",
    "                 Countbloodtype_A += 1\n",
    "              if bloodgroup == \"B\":\n",
    "                 Countbloodtype_B += 1\n",
    "              if bloodgroup == \"O\":\n",
    "                 Countbloodtype_O += 1\n",
    "              if bloodgroup == \"OO\":\n",
    "                 Countbloodtype_OO += 1\n",
    "              if bloodgroup == \"AB\":\n",
    "                 Countbloodtype_AB += 1\n",
    "            \n",
    "    print(\"There are \" + str(Countbloodtype_A) + \" patients of bloodytype A\")\n",
    "    print(\"There are \" + str(Countbloodtype_B) + \" patients of bloodytype B\")\n",
    "    print(\"There are \" + str(Countbloodtype_O) + \" patients of bloodytype O\")\n",
    "    print(\"There are \" + str(Countbloodtype_OO) + \" patients of bloodytype OO\")\n",
    "    print(\"There are \" + str(Countbloodtype_AB) + \" patients of bloodytype AB\")\n",
    "      \n",
    "      \n",
    "    givenfile.close()\n",
    "      \n",
    "file_name = \"bloodtype1.txt\"\n",
    "bldcount(file_name)"
   ]
  },
  {
   "cell_type": "markdown",
   "id": "32a03138",
   "metadata": {},
   "source": [
    "QUESTION 8:\n",
    "\n",
    "Write a function curconv() that takes as input:\n",
    "1. a currency represented using a string (e.g., 'JPY' for the Japanese Yen or\n",
    "'EUR' for the Euro)\n",
    "2. an amount\n",
    "and then converts and returns the amount in US dollars."
   ]
  },
  {
   "cell_type": "code",
   "execution_count": 261,
   "id": "2825a9d5",
   "metadata": {},
   "outputs": [
    {
     "name": "stdout",
     "output_type": "stream",
     "text": [
      "122.96544\n",
      "1.241401\n"
     ]
    }
   ],
   "source": [
    "def curconv(currency,amount):\n",
    "    file_path = \"currencies.txt\"\n",
    "    con_rate_map = {}\n",
    "    with open(file_path, 'r') as file:\n",
    "        \n",
    "        for line in file:\n",
    "            item = line.split()\n",
    "            con_rate_map[item[0]] = float(item[1])\n",
    "            \n",
    "        currency.upper()\n",
    "        if currency in con_rate_map:\n",
    "            print(amount * con_rate_map[currency])\n",
    "            \n",
    "        else:\n",
    "            print(\"currency unavailable\")\n",
    "            \n",
    "        file.close()\n",
    "\n",
    "curconv('EUR', 100)\n",
    "curconv('JPY', 100)"
   ]
  },
  {
   "cell_type": "markdown",
   "id": "493ac4db",
   "metadata": {},
   "source": [
    "QUESTION 9 :\n",
    "\n",
    "Each of the following will cause an exception (an error). Identify what type of exception each will cause."
   ]
  },
  {
   "cell_type": "code",
   "execution_count": 262,
   "id": "6398f9a3",
   "metadata": {
    "scrolled": true
   },
   "outputs": [
    {
     "ename": "SyntaxError",
     "evalue": "invalid character '‘' (U+2018) (1483666973.py, line 3)",
     "output_type": "error",
     "traceback": [
      "\u001b[1;36m  Cell \u001b[1;32mIn[262], line 3\u001b[1;36m\u001b[0m\n\u001b[1;33m    print(6 + ‘a’)\u001b[0m\n\u001b[1;37m              ^\u001b[0m\n\u001b[1;31mSyntaxError\u001b[0m\u001b[1;31m:\u001b[0m invalid character '‘' (U+2018)\n"
     ]
    }
   ],
   "source": [
    "#1.Trying to add incompatible variables, as in adding 6 + ‘a’\n",
    "\n",
    "print(6 + ‘a’)\n",
    "#SyntaxError: invalid character"
   ]
  },
  {
   "cell_type": "code",
   "execution_count": 263,
   "id": "25934417",
   "metadata": {},
   "outputs": [
    {
     "ename": "IndexError",
     "evalue": "list index out of range",
     "output_type": "error",
     "traceback": [
      "\u001b[1;31m---------------------------------------------------------------------------\u001b[0m",
      "\u001b[1;31mIndexError\u001b[0m                                Traceback (most recent call last)",
      "Cell \u001b[1;32mIn[263], line 5\u001b[0m\n\u001b[0;32m      1\u001b[0m \u001b[38;5;66;03m#2.Referring to the 12th item of a list that has only 10 items\u001b[39;00m\n\u001b[0;32m      3\u001b[0m a \u001b[38;5;241m=\u001b[39m [\u001b[38;5;241m1\u001b[39m,\u001b[38;5;241m2\u001b[39m,\u001b[38;5;241m3\u001b[39m,\u001b[38;5;241m4\u001b[39m,\u001b[38;5;241m5\u001b[39m,\u001b[38;5;241m6\u001b[39m,\u001b[38;5;241m7\u001b[39m,\u001b[38;5;241m8\u001b[39m,\u001b[38;5;241m9\u001b[39m,\u001b[38;5;241m10\u001b[39m]\n\u001b[1;32m----> 5\u001b[0m \u001b[38;5;28mprint\u001b[39m(a[\u001b[38;5;241m12\u001b[39m])\n",
      "\u001b[1;31mIndexError\u001b[0m: list index out of range"
     ]
    }
   ],
   "source": [
    "#2.Referring to the 12th item of a list that has only 10 items\n",
    "\n",
    "a = [1,2,3,4,5,6,7,8,9,10]\n",
    "\n",
    "print(a[12])\n",
    "#IndexError: list index out of range"
   ]
  },
  {
   "cell_type": "code",
   "execution_count": 264,
   "id": "28531cbf",
   "metadata": {},
   "outputs": [
    {
     "ename": "ValueError",
     "evalue": "math domain error",
     "output_type": "error",
     "traceback": [
      "\u001b[1;31m---------------------------------------------------------------------------\u001b[0m",
      "\u001b[1;31mValueError\u001b[0m                                Traceback (most recent call last)",
      "Cell \u001b[1;32mIn[264], line 4\u001b[0m\n\u001b[0;32m      1\u001b[0m \u001b[38;5;66;03m#3.Using a value that is out of range for a function’s input, such as calling math.sqrt(-1.0)\u001b[39;00m\n\u001b[0;32m      3\u001b[0m \u001b[38;5;28;01mimport\u001b[39;00m \u001b[38;5;21;01mmath\u001b[39;00m\n\u001b[1;32m----> 4\u001b[0m a \u001b[38;5;241m=\u001b[39m math\u001b[38;5;241m.\u001b[39msqrt(\u001b[38;5;241m-\u001b[39m\u001b[38;5;241m1.0\u001b[39m)\n\u001b[0;32m      6\u001b[0m \u001b[38;5;28mprint\u001b[39m(a)\n",
      "\u001b[1;31mValueError\u001b[0m: math domain error"
     ]
    }
   ],
   "source": [
    "#3.Using a value that is out of range for a function’s input, such as calling math.sqrt(-1.0)\n",
    "\n",
    "import math\n",
    "a = math.sqrt(-1.0)\n",
    "\n",
    "print(a)\n",
    "#ValueError: math domain error (no. should be >= 0)\n"
   ]
  },
  {
   "cell_type": "code",
   "execution_count": 265,
   "id": "20c05694",
   "metadata": {},
   "outputs": [
    {
     "ename": "NameError",
     "evalue": "name 'x' is not defined",
     "output_type": "error",
     "traceback": [
      "\u001b[1;31m---------------------------------------------------------------------------\u001b[0m",
      "\u001b[1;31mNameError\u001b[0m                                 Traceback (most recent call last)",
      "Cell \u001b[1;32mIn[265], line 3\u001b[0m\n\u001b[0;32m      1\u001b[0m \u001b[38;5;66;03m#4.Using an undeclared variable, such as print(x)\u001b[39;00m\n\u001b[1;32m----> 3\u001b[0m \u001b[38;5;28mprint\u001b[39m(x)\n",
      "\u001b[1;31mNameError\u001b[0m: name 'x' is not defined"
     ]
    }
   ],
   "source": [
    "#4.Using an undeclared variable, such as print(x)\n",
    "\n",
    "print(x)\n",
    "#NameError: name 'x' is not defined"
   ]
  },
  {
   "cell_type": "code",
   "execution_count": 266,
   "id": "43565d19",
   "metadata": {},
   "outputs": [
    {
     "ename": "FileNotFoundError",
     "evalue": "[Errno 2] No such file or directory: 'bloodtype20.txt'",
     "output_type": "error",
     "traceback": [
      "\u001b[1;31m---------------------------------------------------------------------------\u001b[0m",
      "\u001b[1;31mFileNotFoundError\u001b[0m                         Traceback (most recent call last)",
      "Cell \u001b[1;32mIn[266], line 4\u001b[0m\n\u001b[0;32m      1\u001b[0m \u001b[38;5;66;03m#5.Trying to open a file that does not exist, such as mistyping the file name or looking in the wrong directory.\u001b[39;00m\n\u001b[0;32m      3\u001b[0m file_name \u001b[38;5;241m=\u001b[39m \u001b[38;5;124m\"\u001b[39m\u001b[38;5;124mcurrencies.txt\u001b[39m\u001b[38;5;124m\"\u001b[39m\n\u001b[1;32m----> 4\u001b[0m \u001b[38;5;28mopen\u001b[39m(\u001b[38;5;124m\"\u001b[39m\u001b[38;5;124mbloodtype20.txt\u001b[39m\u001b[38;5;124m\"\u001b[39m, \u001b[38;5;124m'\u001b[39m\u001b[38;5;124mr\u001b[39m\u001b[38;5;124m'\u001b[39m)\n",
      "File \u001b[1;32m~\\anaconda3\\Lib\\site-packages\\IPython\\core\\interactiveshell.py:310\u001b[0m, in \u001b[0;36m_modified_open\u001b[1;34m(file, *args, **kwargs)\u001b[0m\n\u001b[0;32m    303\u001b[0m \u001b[38;5;28;01mif\u001b[39;00m file \u001b[38;5;129;01min\u001b[39;00m {\u001b[38;5;241m0\u001b[39m, \u001b[38;5;241m1\u001b[39m, \u001b[38;5;241m2\u001b[39m}:\n\u001b[0;32m    304\u001b[0m     \u001b[38;5;28;01mraise\u001b[39;00m \u001b[38;5;167;01mValueError\u001b[39;00m(\n\u001b[0;32m    305\u001b[0m         \u001b[38;5;124mf\u001b[39m\u001b[38;5;124m\"\u001b[39m\u001b[38;5;124mIPython won\u001b[39m\u001b[38;5;124m'\u001b[39m\u001b[38;5;124mt let you open fd=\u001b[39m\u001b[38;5;132;01m{\u001b[39;00mfile\u001b[38;5;132;01m}\u001b[39;00m\u001b[38;5;124m by default \u001b[39m\u001b[38;5;124m\"\u001b[39m\n\u001b[0;32m    306\u001b[0m         \u001b[38;5;124m\"\u001b[39m\u001b[38;5;124mas it is likely to crash IPython. If you know what you are doing, \u001b[39m\u001b[38;5;124m\"\u001b[39m\n\u001b[0;32m    307\u001b[0m         \u001b[38;5;124m\"\u001b[39m\u001b[38;5;124myou can use builtins\u001b[39m\u001b[38;5;124m'\u001b[39m\u001b[38;5;124m open.\u001b[39m\u001b[38;5;124m\"\u001b[39m\n\u001b[0;32m    308\u001b[0m     )\n\u001b[1;32m--> 310\u001b[0m \u001b[38;5;28;01mreturn\u001b[39;00m io_open(file, \u001b[38;5;241m*\u001b[39margs, \u001b[38;5;241m*\u001b[39m\u001b[38;5;241m*\u001b[39mkwargs)\n",
      "\u001b[1;31mFileNotFoundError\u001b[0m: [Errno 2] No such file or directory: 'bloodtype20.txt'"
     ]
    }
   ],
   "source": [
    "#5.Trying to open a file that does not exist, such as mistyping the file name or looking in the wrong directory.\n",
    "\n",
    "file_name = \"currencies.txt\"\n",
    "open(\"bloodtype20.txt\", 'r')\n",
    "#FileNotFoundError: [Errno 2] No such file or directory: 'bloodtype20.txt'"
   ]
  },
  {
   "cell_type": "markdown",
   "id": "e3a79fb3",
   "metadata": {},
   "source": [
    "QUESTION 10 :\n",
    "\n",
    "Encryption is the process of hiding the meaning of a text by substituting letters in the message with other letters, according to some system. If the process is successful, no one but the intended recipient can understand the encrypted message. Cryptanalysis refers to attempts to undo the encryption, even if some details of the encryption are unknown (for example, if an encrypted message has been intercepted). The first step of cryptanalysis is often to build up a table of letter frequencies in the encrypted text. Assume that the string letters is already defined as 'abcdefghijklmnopqrstuvwxyz'. Write a function called frequencies()\n",
    "that takes a string as its only parameter, and returns a list of integers, showing the number of times each character appears in the text. Your function may ignore any characters that are not in letters. \n",
    "\n",
    "\n",
    "- frequencies('The quick red fox got bored and went home.') \n",
    "[1, 1, 1, 3, 5, 1, 1, 2, 1, 0, 1, 0, 1, 2, 4, 0, 1, 2, 0, 2, 1, 0, 1, 1, 0, 0]\n",
    "\n",
    "- frequencies('apple')"
   ]
  },
  {
   "cell_type": "code",
   "execution_count": 267,
   "id": "50bd1a8d",
   "metadata": {},
   "outputs": [
    {
     "name": "stdout",
     "output_type": "stream",
     "text": [
      "[1, 0, 0, 0, 1, 0, 0, 0, 0, 0, 0, 1, 0, 0, 0, 2, 0, 0, 0, 0, 0, 0, 0, 0, 0, 0]\n"
     ]
    }
   ],
   "source": [
    "def frequencies(text):\n",
    "    \n",
    "    alphabets = 'abcdefghijklmnopqrstuvwxyz'\n",
    "    freq_dict = [0] * 26\n",
    "    \n",
    "    text = text.lower()\n",
    "    \n",
    "    for char in text:\n",
    "        if char in alphabets:\n",
    "            index = alphabets.index(char)            \n",
    "            freq_dict[index] += 1\n",
    "            \n",
    "            \n",
    "    print(freq_dict)\n",
    "    \n",
    "user_input = frequencies('Apple')"
   ]
  }
 ],
 "metadata": {
  "kernelspec": {
   "display_name": "Python 3 (ipykernel)",
   "language": "python",
   "name": "python3"
  },
  "language_info": {
   "codemirror_mode": {
    "name": "ipython",
    "version": 3
   },
   "file_extension": ".py",
   "mimetype": "text/x-python",
   "name": "python",
   "nbconvert_exporter": "python",
   "pygments_lexer": "ipython3",
   "version": "3.11.7"
  }
 },
 "nbformat": 4,
 "nbformat_minor": 5
}
